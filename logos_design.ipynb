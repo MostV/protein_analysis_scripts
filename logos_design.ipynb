{
 "cells": [
  {
   "cell_type": "code",
   "execution_count": 1,
   "metadata": {},
   "outputs": [
    {
     "ename": "ModuleNotFoundError",
     "evalue": "No module named 'logomaker'",
     "output_type": "error",
     "traceback": [
      "\u001b[0;31m---------------------------------------------------------------------------\u001b[0m",
      "\u001b[0;31mModuleNotFoundError\u001b[0m                       Traceback (most recent call last)",
      "\u001b[0;32m/tmp/ipykernel_1063446/2676164869.py\u001b[0m in \u001b[0;36m<module>\u001b[0;34m\u001b[0m\n\u001b[1;32m      5\u001b[0m \u001b[0mplt\u001b[0m\u001b[0;34m.\u001b[0m\u001b[0mion\u001b[0m\u001b[0;34m(\u001b[0m\u001b[0;34m)\u001b[0m\u001b[0;34m\u001b[0m\u001b[0;34m\u001b[0m\u001b[0m\n\u001b[1;32m      6\u001b[0m \u001b[0;34m\u001b[0m\u001b[0m\n\u001b[0;32m----> 7\u001b[0;31m \u001b[0;32mimport\u001b[0m \u001b[0mlogomaker\u001b[0m \u001b[0;32mas\u001b[0m \u001b[0mlm\u001b[0m\u001b[0;34m\u001b[0m\u001b[0;34m\u001b[0m\u001b[0m\n\u001b[0m\u001b[1;32m      8\u001b[0m \u001b[0;34m\u001b[0m\u001b[0m\n",
      "\u001b[0;31mModuleNotFoundError\u001b[0m: No module named 'logomaker'"
     ]
    }
   ],
   "source": [
    "import numpy as np\n",
    "import pandas as pd\n",
    "import matplotlib.pyplot as plt\n",
    "%matplotlib inline\n",
    "plt.ion()\n",
    "\n",
    "import logomaker as lm\n",
    "\n"
   ]
  },
  {
   "cell_type": "code",
   "execution_count": 2,
   "metadata": {},
   "outputs": [
    {
     "ename": "NameError",
     "evalue": "name 'msa_file' is not defined",
     "output_type": "error",
     "traceback": [
      "\u001b[0;31m---------------------------------------------------------------------------\u001b[0m",
      "\u001b[0;31mNameError\u001b[0m                                 Traceback (most recent call last)",
      "\u001b[0;32m/tmp/ipykernel_1063446/2778421367.py\u001b[0m in \u001b[0;36m<module>\u001b[0;34m\u001b[0m\n\u001b[1;32m      4\u001b[0m \u001b[0;34m\u001b[0m\u001b[0m\n\u001b[1;32m      5\u001b[0m \u001b[0mmsa\u001b[0m \u001b[0;34m=\u001b[0m \u001b[0;34m[\u001b[0m\u001b[0;34m]\u001b[0m\u001b[0;34m\u001b[0m\u001b[0;34m\u001b[0m\u001b[0m\n\u001b[0;32m----> 6\u001b[0;31m \u001b[0;32mwith\u001b[0m \u001b[0mopen\u001b[0m\u001b[0;34m(\u001b[0m\u001b[0mmsa_file\u001b[0m\u001b[0;34m,\u001b[0m\u001b[0;34m\"r\"\u001b[0m\u001b[0;34m)\u001b[0m \u001b[0;32mas\u001b[0m \u001b[0mf\u001b[0m\u001b[0;34m:\u001b[0m\u001b[0;34m\u001b[0m\u001b[0;34m\u001b[0m\u001b[0m\n\u001b[0m\u001b[1;32m      7\u001b[0m     \u001b[0mraw_seq\u001b[0m \u001b[0;34m=\u001b[0m \u001b[0mf\u001b[0m\u001b[0;34m.\u001b[0m\u001b[0mreadlines\u001b[0m\u001b[0;34m(\u001b[0m\u001b[0;34m)\u001b[0m\u001b[0;34m\u001b[0m\u001b[0;34m\u001b[0m\u001b[0m\n\u001b[1;32m      8\u001b[0m     \u001b[0;32mfor\u001b[0m \u001b[0mi\u001b[0m \u001b[0;32min\u001b[0m \u001b[0mrange\u001b[0m\u001b[0;34m(\u001b[0m\u001b[0;36m0\u001b[0m\u001b[0;34m,\u001b[0m\u001b[0mlen\u001b[0m\u001b[0;34m(\u001b[0m\u001b[0mraw_seq\u001b[0m\u001b[0;34m)\u001b[0m\u001b[0;34m,\u001b[0m\u001b[0;36m2\u001b[0m\u001b[0;34m)\u001b[0m\u001b[0;34m:\u001b[0m\u001b[0;34m\u001b[0m\u001b[0;34m\u001b[0m\u001b[0m\n",
      "\u001b[0;31mNameError\u001b[0m: name 'msa_file' is not defined"
     ]
    }
   ],
   "source": [
    "from Bio.Seq import Seq\n",
    "from Bio.SeqRecord import SeqRecord\n",
    "from Bio.Align import MultipleSeqAlignment\n",
    "\n",
    "msa = []\n",
    "with open(msa_file,\"r\") as f:\n",
    "    raw_seq = f.readlines()\n",
    "    for i in range(0,len(raw_seq),2):\n",
    "        seq = raw_seq[i+1]\n",
    "        ident = raw_seq[i].strip().split(\"/\")[-1]\n",
    "        msa.append(SeqRecord(Seq(seq), id=ident))"
   ]
  },
  {
   "cell_type": "code",
   "execution_count": 3,
   "metadata": {},
   "outputs": [
    {
     "name": "stderr",
     "output_type": "stream",
     "text": [
      "/opt/anaconda3/envs/mlfold/lib/python3.10/site-packages/logomaker/src/matrix.py:584: FutureWarning: In a future version, `df.iloc[:, i] = newvals` will attempt to set the values inplace instead of always setting a new array. To retain the old behavior, use either `df[df.columns[i]] = newvals` or, if columns are non-unique, `df.isetitem(i, newvals)`\n",
      "  counts_df.loc[:, c] = tmp_mat.sum(axis=0).T\n"
     ]
    }
   ],
   "source": [
    "#msa_file=\"pmpnn_design/alpha_chain_top100.fasta\"\n",
    "#change to your msa file - only one chain\n",
    "msa_file=\"esm_design/alpha_chain_top100.fasta\"\n",
    "#msa_file=\"esm_design/beta_chain_top100.fasta\"\n",
    "#change to your fasta with native sequence - only one chain\n",
    "native_fasta=\"chainD.fasta\"\n",
    "\n",
    "#set range of residues, that should be displayed in the logo plot\n",
    "start = 10\n",
    "end = 20\n",
    "\n",
    "\n",
    "res_range = [i for i in range(start-1,end)]\n",
    "\n",
    "#or create list with specific residues:\n",
    "#res_range = [10,11,66,68,69,70,71,73,74,75,110,112]\n",
    "#res_range = [8,10,11,66, 69,77,88,110,112]\n",
    "\n",
    "#reads msa file and creates matrix containing counts for each mutation\n",
    "with open(msa_file,\"r\") as f:\n",
    "    raw_seq = f.readlines()\n",
    "f.close()\n",
    "\n",
    "seqs = [seq.strip() for seq in raw_seq if ('#' not in seq) and ('>') not in seq]\n",
    "seqs_clean = list(filter(None, seqs))\n",
    "counts_mat = lm.alignment_to_matrix(seqs_clean)\n",
    "counts_mat.head()\n",
    "\n",
    "#reads native sequence file and creates list of native residues to use later for axis labels \n",
    "#- native fasta should have same starting point and length as fastas from the design\n",
    "o_seq =[]\n",
    "with open(native_fasta, 'r') as fasta:\n",
    "    line = [l.strip() for l in fasta]\n",
    "    o_seq[:]= line[1]\n",
    "    #res_range=[i for i in range(1,len(o_seq)+1)]\n",
    "    o_seq_res = [o_seq[i-1] for i in res_range]\n",
    "fasta.close()\n",
    "\n",
    "#filters count matrix based on the selected residue positions\n",
    "counts_mat_range = counts_mat.loc[[x-1 for x in res_range]]\n",
    "counts_mat_range.reset_index(drop=True, inplace=True)\n",
    "\n",
    "print(f'the native residues displayed in this logo plot are {[str(i+1)+j for i,j in zip(res_range,o_seq_res)]} "
   ]
  },
  {
   "cell_type": "code",
   "execution_count": null,
   "metadata": {},
   "outputs": [],
   "source": [
    "#output = 'pmpnn_design_top100_alpha_logoplot.png'\n",
    "output = \"esm_design_top100_alpha_completelogoplot\" #change to output name\n",
    "\n",
    "cm = 1/2.54\n",
    "fig, ax = plt.subplots(figsize=[10*cm,5*cm])\n",
    "seq_logo = lm.Logo(counts_mat_range,\n",
    "                           ax=ax,\n",
    "                           stack_order='small_on_top',\n",
    "                          #fade_probabilities=True,\n",
    "                           #font_name='Times New Roman',\n",
    "                           color_scheme='black',\n",
    "                           vpad=.02,\n",
    "                           #color_scheme='grays'\n",
    "                          )\n",
    "seq_logo.ax.set_yticks([0, 1])\n",
    "seq_logo.ax.set_yticklabels(['0', '1'], size=16)\n",
    "seq_logo.ax.set_xticks(range(len(res_range)))\n",
    "seq_logo.ax.set_xticklabels(o_seq_res, size=16)\n",
    "secax = ax.secondary_xaxis('top')\n",
    "secax.set_xticks(range(len(res_range)))\n",
    "secax.set_xticklabels(res_range, size=16)\n",
    "secax.set_xlabel(\"Residue numbers\", size=18, labelpad=10)\n",
    "ax.set_xlabel(\"Wildtype amino acid\", size=18, labelpad=10)\n",
    "ax.set_ylabel(\"count\", size=18, labelpad=10)\n",
    "ax.tick_params(axis=u'both', which=u'both',length=0)\n",
    "secax.tick_params(axis=u'both', which=u'both',length=0)\n",
    "\n",
    "\n",
    "#select which residues to highlight\n",
    "highlights = []\n",
    "nothighlights = [i for i in range(len(res_tange)) if i not in highlights]\n",
    "for i in highlights:\n",
    "    seq_logo.highlight_position(p=i-1, color='#9932CC', alpha=.5)\n",
    "for i in nothighlights:\n",
    "    seq_logo.highlight_position(p=i-1, color='#FFFFFF', alpha=.5)\n",
    "\n",
    "    \n",
    "fig.tight_layout()\n",
    "fig.savefig(f'{output}.png', dpi=300) #save as png\n",
    "fig.savefig(f'{output}.svg', dpi=300) #save as vector graphic"
   ]
  },
  {
   "cell_type": "code",
   "execution_count": null,
   "metadata": {},
   "outputs": [],
   "source": []
  }
 ],
 "metadata": {
  "kernelspec": {
   "display_name": "Python 3 (ipykernel)",
   "language": "python",
   "name": "python3"
  },
  "language_info": {
   "codemirror_mode": {
    "name": "ipython",
    "version": 3
   },
   "file_extension": ".py",
   "mimetype": "text/x-python",
   "name": "python",
   "nbconvert_exporter": "python",
   "pygments_lexer": "ipython3",
   "version": "3.9.13"
  }
 },
 "nbformat": 4,
 "nbformat_minor": 4
}
